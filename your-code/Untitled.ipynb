{
 "cells": [
  {
   "cell_type": "code",
   "execution_count": 1,
   "metadata": {},
   "outputs": [
    {
     "ename": "NameError",
     "evalue": "name 'np' is not defined",
     "output_type": "error",
     "traceback": [
      "\u001b[1;31m---------------------------------------------------------------------------\u001b[0m",
      "\u001b[1;31mNameError\u001b[0m                                 Traceback (most recent call last)",
      "\u001b[1;32m<ipython-input-1-125454ebdcea>\u001b[0m in \u001b[0;36m<module>\u001b[1;34m\u001b[0m\n\u001b[1;32m----> 1\u001b[1;33m \u001b[0ma\u001b[0m \u001b[1;33m=\u001b[0m \u001b[0mnp\u001b[0m\u001b[1;33m.\u001b[0m\u001b[0mrandom\u001b[0m\u001b[1;33m.\u001b[0m\u001b[0mrandom\u001b[0m\u001b[1;33m(\u001b[0m\u001b[1;33m(\u001b[0m\u001b[1;36m10\u001b[0m\u001b[1;33m,\u001b[0m\u001b[1;36m4\u001b[0m\u001b[1;33m)\u001b[0m\u001b[1;33m)\u001b[0m\u001b[1;33m\u001b[0m\u001b[1;33m\u001b[0m\u001b[0m\n\u001b[0m\u001b[0;32m      2\u001b[0m \u001b[0mprint\u001b[0m\u001b[1;33m(\u001b[0m\u001b[0ma\u001b[0m\u001b[1;33m)\u001b[0m\u001b[1;33m\u001b[0m\u001b[1;33m\u001b[0m\u001b[0m\n",
      "\u001b[1;31mNameError\u001b[0m: name 'np' is not defined"
     ]
    }
   ],
   "source": []
  },
  {
   "cell_type": "code",
   "execution_count": 2,
   "metadata": {},
   "outputs": [],
   "source": [
    "import numpy as np"
   ]
  },
  {
   "cell_type": "code",
   "execution_count": 3,
   "metadata": {},
   "outputs": [
    {
     "name": "stdout",
     "output_type": "stream",
     "text": [
      "[[0.03158309 0.97231657 0.07789809 0.98416899]\n",
      " [0.91892017 0.12032184 0.91195972 0.1521784 ]\n",
      " [0.87366593 0.44431329 0.76913041 0.93414572]\n",
      " [0.41270659 0.2706027  0.93077905 0.03666224]\n",
      " [0.08531587 0.14963277 0.4526527  0.54974867]\n",
      " [0.88632443 0.53158691 0.26505149 0.20627569]\n",
      " [0.55134593 0.43846855 0.93972581 0.09199257]\n",
      " [0.41152169 0.24164092 0.15054638 0.22345101]\n",
      " [0.39710925 0.51218372 0.42668584 0.60975368]\n",
      " [0.87964996 0.8739056  0.78106218 0.29439998]]\n"
     ]
    }
   ],
   "source": [
    "a = np.random.random((10,4))\n",
    "print(a)"
   ]
  },
  {
   "cell_type": "code",
   "execution_count": 4,
   "metadata": {},
   "outputs": [
    {
     "name": "stdout",
     "output_type": "stream",
     "text": [
      "(10, 4)\n"
     ]
    }
   ],
   "source": [
    "print(a.shape)"
   ]
  },
  {
   "cell_type": "code",
   "execution_count": 5,
   "metadata": {},
   "outputs": [
    {
     "name": "stdout",
     "output_type": "stream",
     "text": [
      "40\n"
     ]
    }
   ],
   "source": [
    "print(a.size)"
   ]
  },
  {
   "cell_type": "code",
   "execution_count": 6,
   "metadata": {},
   "outputs": [
    {
     "name": "stdout",
     "output_type": "stream",
     "text": [
      "[[[0.66669375 0.64283451 0.90501613]\n",
      "  [0.40113214 0.44989432 0.23127182]]\n",
      "\n",
      " [[0.07705433 0.72226063 0.98858992]\n",
      "  [0.37758878 0.1661723  0.45130655]]\n",
      "\n",
      " [[0.8090212  0.26244484 0.41302513]\n",
      "  [0.9525808  0.56206728 0.46269848]]\n",
      "\n",
      " [[0.93776331 0.59932615 0.72072998]\n",
      "  [0.83520657 0.4335352  0.63299563]]\n",
      "\n",
      " [[0.75177289 0.44700385 0.88202118]\n",
      "  [0.16306935 0.55813704 0.84704439]]]\n"
     ]
    }
   ],
   "source": [
    "b = np.random.random((5,2,3))\n",
    "print(b)"
   ]
  },
  {
   "cell_type": "code",
   "execution_count": 7,
   "metadata": {},
   "outputs": [
    {
     "name": "stdout",
     "output_type": "stream",
     "text": [
      "[[[[0.90648835 0.72365203 0.11837308 0.44697729 0.12737596]\n",
      "   [0.40345271 0.22301801 0.16726019 0.23523474 0.37799553]\n",
      "   [0.77736024 0.0712059  0.95119957 0.72344322 0.10905328]\n",
      "   [0.29997586 0.71254522 0.13487974 0.91137657 0.21926477]]\n",
      "\n",
      "  [[0.12604117 0.63281293 0.59267381 0.44392166 0.77390539]\n",
      "   [0.19062756 0.86691159 0.45767455 0.51244108 0.4291931 ]\n",
      "   [0.57361026 0.9208547  0.56299405 0.19517703 0.88505649]\n",
      "   [0.95409282 0.70905026 0.3299379  0.17029438 0.64789353]]\n",
      "\n",
      "  [[0.13998353 0.14587978 0.67827032 0.94111684 0.27122638]\n",
      "   [0.14160301 0.11739064 0.57649993 0.53246525 0.64253568]\n",
      "   [0.4642338  0.92769711 0.80860666 0.9316907  0.41144293]\n",
      "   [0.26260731 0.74321684 0.91769537 0.97192927 0.35205373]]]\n",
      "\n",
      "\n",
      " [[[0.38711567 0.18606013 0.32384569 0.03750836 0.80808189]\n",
      "   [0.97713376 0.06409279 0.62180544 0.1668592  0.51149813]\n",
      "   [0.19807507 0.73250943 0.82935232 0.69545849 0.02560267]\n",
      "   [0.21499008 0.50678036 0.82927517 0.23492798 0.10777544]]\n",
      "\n",
      "  [[0.60316028 0.05831469 0.28312837 0.77431278 0.85413406]\n",
      "   [0.77772118 0.78691206 0.50700035 0.02631363 0.19762997]\n",
      "   [0.27539907 0.60253468 0.52409978 0.81870218 0.29614074]\n",
      "   [0.90955586 0.98914729 0.05162146 0.14028591 0.7365857 ]]\n",
      "\n",
      "  [[0.97373882 0.48496978 0.39806318 0.62800108 0.2107551 ]\n",
      "   [0.21831424 0.22693659 0.88525776 0.29002373 0.22233703]\n",
      "   [0.92345979 0.71590129 0.21689845 0.42851821 0.45174431]\n",
      "   [0.18101915 0.85778834 0.82896524 0.27588771 0.54168092]]]]\n"
     ]
    }
   ],
   "source": [
    "c = np.random.random((2,3,4,5))\n",
    "print(c)"
   ]
  },
  {
   "cell_type": "code",
   "execution_count": 8,
   "metadata": {},
   "outputs": [
    {
     "name": "stdout",
     "output_type": "stream",
     "text": [
      "[0.03158309 0.97231657 0.07789809 0.98416899]\n"
     ]
    }
   ],
   "source": [
    "print(a[0])"
   ]
  },
  {
   "cell_type": "code",
   "execution_count": 9,
   "metadata": {},
   "outputs": [
    {
     "name": "stdout",
     "output_type": "stream",
     "text": [
      "[0.03158309 0.91892017 0.87366593 0.41270659 0.08531587 0.88632443\n",
      " 0.55134593 0.41152169 0.39710925 0.87964996]\n"
     ]
    }
   ],
   "source": [
    "print(a[:,0])"
   ]
  },
  {
   "cell_type": "code",
   "execution_count": 10,
   "metadata": {},
   "outputs": [
    {
     "name": "stdout",
     "output_type": "stream",
     "text": [
      "0.4526527028907581\n"
     ]
    }
   ],
   "source": [
    "#fifth row and third column of a matrix\n",
    "print(a[4,2])"
   ]
  },
  {
   "cell_type": "code",
   "execution_count": 11,
   "metadata": {},
   "outputs": [
    {
     "name": "stdout",
     "output_type": "stream",
     "text": [
      "[0.03158309 0.97231657 0.07789809 0.98416899]\n"
     ]
    }
   ],
   "source": [
    "print(a[0])"
   ]
  },
  {
   "cell_type": "code",
   "execution_count": 12,
   "metadata": {},
   "outputs": [
    {
     "name": "stdout",
     "output_type": "stream",
     "text": [
      "[[1 2 3]\n",
      " [4 5 6]\n",
      " [7 8 9]]\n"
     ]
    }
   ],
   "source": [
    "lst_lst = [[1,2,3], [4,5,6], [7,8,9]]\n",
    "d = np.array(lst_lst)\n",
    "print(d)"
   ]
  },
  {
   "cell_type": "code",
   "execution_count": 13,
   "metadata": {},
   "outputs": [
    {
     "name": "stdout",
     "output_type": "stream",
     "text": [
      "19.79138439719759\n"
     ]
    }
   ],
   "source": [
    "print(np.sum(a))"
   ]
  },
  {
   "cell_type": "code",
   "execution_count": 14,
   "metadata": {},
   "outputs": [
    {
     "name": "stdout",
     "output_type": "stream",
     "text": [
      "[5.44814292 4.55497286 5.70549166 4.08277695]\n"
     ]
    }
   ],
   "source": [
    "print(np.sum(a, axis=0))"
   ]
  },
  {
   "cell_type": "code",
   "execution_count": 15,
   "metadata": {},
   "outputs": [
    {
     "name": "stdout",
     "output_type": "stream",
     "text": [
      "[0.54481429 0.45549729 0.57054917 0.40827769]\n"
     ]
    }
   ],
   "source": [
    "print(np.mean(a, axis=0))"
   ]
  },
  {
   "cell_type": "code",
   "execution_count": null,
   "metadata": {},
   "outputs": [],
   "source": []
  },
  {
   "cell_type": "code",
   "execution_count": null,
   "metadata": {},
   "outputs": [],
   "source": []
  }
 ],
 "metadata": {
  "kernelspec": {
   "display_name": "Python 3",
   "language": "python",
   "name": "python3"
  },
  "language_info": {
   "codemirror_mode": {
    "name": "ipython",
    "version": 3
   },
   "file_extension": ".py",
   "mimetype": "text/x-python",
   "name": "python",
   "nbconvert_exporter": "python",
   "pygments_lexer": "ipython3",
   "version": "3.8.3"
  }
 },
 "nbformat": 4,
 "nbformat_minor": 4
}
